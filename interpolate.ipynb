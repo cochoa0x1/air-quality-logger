{
 "cells": [
  {
   "cell_type": "code",
   "execution_count": 78,
   "metadata": {
    "collapsed": true
   },
   "outputs": [],
   "source": [
    "import pandas as pd\n",
    "import numpy as np\n",
    "from haversine import haversine\n",
    "import sqlite3"
   ]
  },
  {
   "cell_type": "code",
   "execution_count": 79,
   "metadata": {
    "collapsed": true
   },
   "outputs": [],
   "source": [
    "cn = sqlite3.connect('air.db')"
   ]
  },
  {
   "cell_type": "code",
   "execution_count": 80,
   "metadata": {},
   "outputs": [],
   "source": [
    "sql = '''select distinct b.metric, a.name, a.lat, a.long, b.t, b.value \n",
    "         from stations as a join measurements as b on (a.id = b.station_id)\n",
    "         where b.metric = 'PM25'\n",
    "         and t >= (select max(t) from measurements) \n",
    "      '''\n",
    "df = pd.read_sql(sql, cn)"
   ]
  },
  {
   "cell_type": "code",
   "execution_count": 81,
   "metadata": {},
   "outputs": [],
   "source": [
    "lat, lng = 37.502834, 127.058756"
   ]
  },
  {
   "cell_type": "code",
   "execution_count": 82,
   "metadata": {
    "collapsed": true
   },
   "outputs": [],
   "source": [
    "def interpolate(x,y, xs, ys, vals,  p=2, dist_func = haversine):\n",
    "    '''inverse distance weighted'''\n",
    "    \n",
    "    w = np.array([ np.power( 1.0/dist_func( (x,y), (a,b)), p) for a,b in zip(xs,ys)])\n",
    "\n",
    "    return np.sum(np.multiply(w,vals))/np.sum(w)"
   ]
  },
  {
   "cell_type": "code",
   "execution_count": 83,
   "metadata": {},
   "outputs": [
    {
     "data": {
      "text/plain": [
       "18.0"
      ]
     },
     "execution_count": 83,
     "metadata": {},
     "output_type": "execute_result"
    }
   ],
   "source": [
    "interpolate(lat,lng, df.lat, df.long, df.value, p=100)"
   ]
  },
  {
   "cell_type": "markdown",
   "metadata": {},
   "source": [
    "select value of p via leave one-out optimization"
   ]
  },
  {
   "cell_type": "code",
   "execution_count": 89,
   "metadata": {
    "collapsed": true
   },
   "outputs": [],
   "source": [
    "xs, ys, vals = df.lat, df.long, df.value"
   ]
  },
  {
   "cell_type": "code",
   "execution_count": 106,
   "metadata": {},
   "outputs": [],
   "source": [
    "def err(p):\n",
    "    global xs, ys, vals\n",
    "    \n",
    "    error =0\n",
    "\n",
    "    for i in range(len(xs)):\n",
    "\n",
    "        x,y, actual = xs[i], ys[i], vals[i]\n",
    "        newx,newy, newvals = xs.copy(), ys.copy(), vals.copy()\n",
    "        del newx[i]\n",
    "        del newy[i]\n",
    "        del newvals[i]\n",
    "\n",
    "        pred = interpolate(x,y,newx,newy,newvals,p=p[0])\n",
    "\n",
    "        error += (actual-pred)**2\n",
    "        \n",
    "    return error"
   ]
  },
  {
   "cell_type": "code",
   "execution_count": 107,
   "metadata": {},
   "outputs": [],
   "source": [
    "from scipy.optimize import minimize"
   ]
  },
  {
   "cell_type": "code",
   "execution_count": 108,
   "metadata": {},
   "outputs": [
    {
     "data": {
      "text/plain": [
       "      fun: 14765.376915956269\n",
       " hess_inv: array([[  4.84533302e-08]])\n",
       "      jac: array([-0.00012207])\n",
       "  message: 'Desired error not necessarily achieved due to precision loss.'\n",
       "     nfev: 37\n",
       "      nit: 7\n",
       "     njev: 12\n",
       "   status: 2\n",
       "  success: False\n",
       "        x: array([ 2.93865916])"
      ]
     },
     "execution_count": 108,
     "metadata": {},
     "output_type": "execute_result"
    }
   ],
   "source": [
    "p=[2.0]\n",
    "minimize(err, p)"
   ]
  },
  {
   "cell_type": "code",
   "execution_count": 109,
   "metadata": {},
   "outputs": [
    {
     "data": {
      "text/plain": [
       "18.071563103040539"
      ]
     },
     "execution_count": 109,
     "metadata": {},
     "output_type": "execute_result"
    }
   ],
   "source": [
    "interpolate(lat,lng, df.lat, df.long, df.value, p=2.93)"
   ]
  }
 ],
 "metadata": {
  "kernelspec": {
   "display_name": "Python 3",
   "language": "python",
   "name": "python3"
  },
  "language_info": {
   "codemirror_mode": {
    "name": "ipython",
    "version": 3
   },
   "file_extension": ".py",
   "mimetype": "text/x-python",
   "name": "python",
   "nbconvert_exporter": "python",
   "pygments_lexer": "ipython3",
   "version": "3.6.1"
  }
 },
 "nbformat": 4,
 "nbformat_minor": 2
}
